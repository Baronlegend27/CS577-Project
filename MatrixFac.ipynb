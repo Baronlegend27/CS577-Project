{
 "cells": [
  {
   "cell_type": "code",
   "execution_count": null,
   "metadata": {},
   "outputs": [],
   "source": [
    "import numpy as np\n",
    "\n",
    "# Sample user-item rating matrix\n",
    "R = np.array([[5, 3, 0, 1],\n",
    "              [4, 0, 0, 1],\n",
    "              [1, 1, 0, 5],\n",
    "              [1, 0, 0, 4],\n",
    "              [0, 1, 5, 4]])\n"
   ]
  },
  {
   "cell_type": "code",
   "execution_count": null,
   "metadata": {},
   "outputs": [],
   "source": [
    "def mean_normalize(R):\n",
    "    \"\"\"Mean normalize the ratings matrix.\"\"\"\n",
    "    R_mean = np.mean(R, axis=1).reshape(-1, 1)\n",
    "    R_normalized = R - R_mean\n",
    "    return R_normalized, R_mean"
   ]
  },
  {
   "cell_type": "code",
   "execution_count": null,
   "metadata": {},
   "outputs": [],
   "source": [
    "\n",
    "def perform_svd(R_normalized):\n",
    "    \"\"\"Perform Singular Value Decomposition.\"\"\"\n",
    "    U, sigma, Vt = np.linalg.svd(R_normalized, full_matrices=False)\n",
    "    return U, sigma, Vt"
   ]
  },
  {
   "cell_type": "code",
   "execution_count": null,
   "metadata": {},
   "outputs": [],
   "source": [
    "def select_top_k(U, sigma, Vt, k):\n",
    "    \"\"\"Select the top k singular values and corresponding vectors.\"\"\"\n",
    "    U_k = U[:, :k]\n",
    "    sigma_k = np.diag(sigma[:k])\n",
    "    Vt_k = Vt[:k, :]\n",
    "    return U_k, sigma_k, Vt_k"
   ]
  },
  {
   "cell_type": "code",
   "execution_count": null,
   "metadata": {},
   "outputs": [],
   "source": [
    "def reconstruct_matrix(U_k, sigma_k, Vt_k, R_mean):\n",
    "    \"\"\"Reconstruct the original ratings matrix.\"\"\"\n",
    "    R_approx = np.dot(np.dot(U_k, sigma_k), Vt_k) + R_mean\n",
    "    return R_approx"
   ]
  },
  {
   "cell_type": "code",
   "execution_count": null,
   "metadata": {},
   "outputs": [
    {
     "name": "stdout",
     "output_type": "stream",
     "text": [
      "Original Ratings Matrix:\n",
      "[[5 3 0 1]\n",
      " [4 0 0 1]\n",
      " [1 1 0 5]\n",
      " [1 0 0 4]\n",
      " [0 1 5 4]]\n",
      "\n",
      "Approximated Ratings Matrix:\n",
      "[[ 5.  3.  0.  1.]\n",
      " [ 3.  1. -1.  1.]\n",
      " [ 1.  0.  0.  5.]\n",
      " [ 1.  0. -0.  4.]\n",
      " [-0.  2.  5.  4.]]\n"
     ]
    }
   ],
   "source": [
    "\n",
    "def matrix_factorization(R, k):\n",
    "    \"\"\"Perform matrix factorization using SVD.\"\"\"\n",
    "    R_normalized, R_mean = mean_normalize(R)\n",
    "    U, sigma, Vt = perform_svd(R_normalized)\n",
    "    U_k, sigma_k, Vt_k = select_top_k(U, sigma, Vt, k)\n",
    "    R_approx = reconstruct_matrix(U_k, sigma_k, Vt_k, R_mean)\n",
    "    return R_approx\n",
    "\n",
    "# Parameters\n",
    "k = 2  # Number of latent features\n",
    "\n",
    "# Perform matrix factorization\n",
    "R_approx = matrix_factorization(R, k)\n",
    "\n",
    "print(\"Original Ratings Matrix:\")\n",
    "print(R)\n",
    "print(\"\\nApproximated Ratings Matrix:\")\n",
    "print(np.round(R_approx))\n"
   ]
  },
  {
   "cell_type": "markdown",
   "metadata": {},
   "source": [
    "You take the user item matrix and then decompose it into the latent factors for the users and for the items."
   ]
  },
  {
   "cell_type": "markdown",
   "metadata": {},
   "source": [
    "You then will "
   ]
  },
  {
   "cell_type": "markdown",
   "metadata": {},
   "source": []
  },
  {
   "cell_type": "code",
   "execution_count": null,
   "metadata": {},
   "outputs": [],
   "source": []
  }
 ],
 "metadata": {
  "kernelspec": {
   "display_name": "base",
   "language": "python",
   "name": "python3"
  },
  "language_info": {
   "codemirror_mode": {
    "name": "ipython",
    "version": 3
   },
   "file_extension": ".py",
   "mimetype": "text/x-python",
   "name": "python",
   "nbconvert_exporter": "python",
   "pygments_lexer": "ipython3",
   "version": "3.9.13"
  }
 },
 "nbformat": 4,
 "nbformat_minor": 2
}
