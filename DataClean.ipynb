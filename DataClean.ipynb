{
 "cells": [
  {
   "cell_type": "code",
   "execution_count": 1,
   "metadata": {},
   "outputs": [
    {
     "name": "stdout",
     "output_type": "stream",
     "text": [
      "Original User-Item Interaction Matrix:\n",
      " [[5 3 0 1]\n",
      " [4 0 0 1]\n",
      " [1 1 0 5]\n",
      " [1 0 0 4]\n",
      " [0 1 5 4]]\n",
      "\n",
      "Predicted Ratings:\n",
      " [[ 5.1   2.82  0.09  0.99]\n",
      " [ 3.24  1.35 -0.71  1.11]\n",
      " [ 1.3   0.47  0.28  4.96]\n",
      " [ 0.92  0.15 -0.08  4.01]\n",
      " [-0.45  1.81  4.58  4.07]]\n"
     ]
    }
   ],
   "source": [
    "import numpy as np\n",
    "from scipy.sparse.linalg import svds\n",
    "\n",
    "# Sample User-Item Interaction Matrix\n",
    "R = np.array([\n",
    "    [5, 3, 0, 1],\n",
    "    [4, 0, 0, 1],\n",
    "    [1, 1, 0, 5],\n",
    "    [1, 0, 0, 4],\n",
    "    [0, 1, 5, 4],\n",
    "])\n",
    "\n",
    "# Mean normalization\n",
    "user_ratings_mean = np.mean(R, axis=1)\n",
    "R_demeaned = R - user_ratings_mean.reshape(-1, 1)\n",
    "\n",
    "# Perform SVD\n",
    "U, sigma, Vt = svds(R_demeaned, k=2)\n",
    "\n",
    "# Convert sigma to a diagonal matrix\n",
    "sigma = np.diag(sigma)\n",
    "\n",
    "# Reconstruct the ratings matrix\n",
    "predicted_ratings = np.dot(np.dot(U, sigma), Vt) + user_ratings_mean.reshape(-1, 1)\n",
    "\n",
    "print(\"Original User-Item Interaction Matrix:\\n\", R)\n",
    "print(\"\\nPredicted Ratings:\\n\", np.round(predicted_ratings, 2))\n"
   ]
  },
  {
   "cell_type": "code",
   "execution_count": 230,
   "metadata": {},
   "outputs": [
    {
     "name": "stdout",
     "output_type": "stream",
     "text": [
      "5155\n",
      "           ID                                     Game      Stat  Play Time\n",
      "0   151603712               The Elder Scrolls V Skyrim      play      273.0\n",
      "1   151603712                                Fallout 4  purchase        1.0\n",
      "2   151603712                                Fallout 4      play       87.0\n",
      "3   151603712                                    Spore  purchase        1.0\n",
      "4   151603712                                    Spore      play       14.9\n",
      "..        ...                                      ...       ...        ...\n",
      "60  151603712             HuniePop Original Soundtrack  purchase        1.0\n",
      "61  151603712            The Banner Saga - Mod Content  purchase        1.0\n",
      "62  151603712   The Elder Scrolls V Skyrim - Dawnguard  purchase        1.0\n",
      "63  151603712  The Elder Scrolls V Skyrim - Dragonborn  purchase        1.0\n",
      "64  151603712  The Elder Scrolls V Skyrim - Hearthfire  purchase        1.0\n",
      "\n",
      "[65 rows x 4 columns]\n"
     ]
    }
   ],
   "source": [
    "import pandas as pd\n",
    "\n",
    "# Specify the path to your CSV file\n",
    "csv_file_path = 'steam-200k.csv'  # Change this to your file path\n",
    "\n",
    "# Read the CSV file into a DataFrame\n",
    "data = pd.read_csv(csv_file_path)\n",
    "data.columns = ['ID', 'Game', 'Stat', 'Play Time', 'N']\n",
    "data.drop(columns=['N'], inplace=True)\n",
    "# Display the first few rows of the DataFrame\n",
    "all_IDS = data[\"ID\"].unique()\n",
    "all_games = data[\"Game\"].unique()\n",
    "\n",
    "print(len(all_games))\n",
    "\n",
    "\n",
    "single_player = data[data.iloc[:, 0] == all_IDS[0]]\n",
    "print(single_player)\n",
    "\n"
   ]
  },
  {
   "cell_type": "markdown",
   "metadata": {},
   "source": [
    "We are going to filter out this different purchases and non purchases we will only look at the play time"
   ]
  },
  {
   "cell_type": "code",
   "execution_count": 231,
   "metadata": {},
   "outputs": [
    {
     "name": "stdout",
     "output_type": "stream",
     "text": [
      "               ID                        Game  Stat  Play Time\n",
      "0       151603712  The Elder Scrolls V Skyrim  play      273.0\n",
      "2       151603712                   Fallout 4  play       87.0\n",
      "4       151603712                       Spore  play       14.9\n",
      "6       151603712           Fallout New Vegas  play       12.1\n",
      "8       151603712               Left 4 Dead 2  play        8.9\n",
      "...           ...                         ...   ...        ...\n",
      "199990  128470551                Fallen Earth  play        2.4\n",
      "199992  128470551                 Magic Duels  play        2.2\n",
      "199994  128470551                 Titan Souls  play        1.5\n",
      "199996  128470551  Grand Theft Auto Vice City  play        1.5\n",
      "199998  128470551                        RUSH  play        1.4\n",
      "\n",
      "[70489 rows x 4 columns]\n"
     ]
    }
   ],
   "source": [
    "without_purchase = data[data.iloc[:, 2] == \"play\"]\n",
    "\n",
    "print(without_purchase)"
   ]
  },
  {
   "cell_type": "code",
   "execution_count": 232,
   "metadata": {},
   "outputs": [
    {
     "name": "stdout",
     "output_type": "stream",
     "text": [
      "[[0 0 0 ... 0 0 0]\n",
      " [0 0 0 ... 0 0 0]\n",
      " [0 0 0 ... 0 0 0]\n",
      " ...\n",
      " [0 0 0 ... 0 0 0]\n",
      " [0 0 0 ... 0 0 0]\n",
      " [0 0 0 ... 0 0 0]]\n"
     ]
    }
   ],
   "source": [
    "# Define the shape\n",
    "shape = (len(all_IDS), len(all_games)) \n",
    "k = 0\n",
    "# Create a 2D array filled with k\n",
    "array_2d = np.full(shape, k)\n",
    "print(array_2d)\n"
   ]
  },
  {
   "cell_type": "code",
   "execution_count": 233,
   "metadata": {},
   "outputs": [],
   "source": [
    "\n",
    "top_ids = all_IDS[:len(all_IDS)//2]\n",
    "top_bottom = all_IDS[len(all_IDS)//2:]\n"
   ]
  },
  {
   "cell_type": "code",
   "execution_count": 234,
   "metadata": {},
   "outputs": [],
   "source": [
    "import time"
   ]
  },
  {
   "cell_type": "code",
   "execution_count": 235,
   "metadata": {},
   "outputs": [
    {
     "data": {
      "text/plain": [
       "\"start_time = time.time()\\nall_games1 = all_games\\nall_IDS1 = all_IDS[:2]\\n\\nfor id_index, id in enumerate(all_IDS1):\\n    for game_index, game in enumerate(all_games1):\\n        x = without_purchase[(without_purchase.iloc[:, 0] == id) & (without_purchase['Game'] == game)]['Play Time']\\n        if not is_empty_play_time(x):\\n            array_2d[id_index][game_index] = float(x)\\n        else:\\n            array_2d[id_index][game_index] = 0\\nend_time = time.time()\\n\\ndiff = end_time - start_time\\nbeta.append(diff)\\nprint(diff)\\nprint(array_2d)\\n\""
      ]
     },
     "execution_count": 235,
     "metadata": {},
     "output_type": "execute_result"
    }
   ],
   "source": [
    "\n",
    "def is_empty_play_time(series):\n",
    "    return (series.empty and\n",
    "            series.name == 'Play Time' and\n",
    "            series.dtype == 'float64')\n",
    "alpha = []\n",
    "beta = []\n",
    "\n",
    "'''start_time = time.time()\n",
    "all_games1 = all_games\n",
    "all_IDS1 = all_IDS[:2]\n",
    "\n",
    "for id_index, id in enumerate(all_IDS1):\n",
    "    for game_index, game in enumerate(all_games1):\n",
    "        x = without_purchase[(without_purchase.iloc[:, 0] == id) & (without_purchase['Game'] == game)]['Play Time']\n",
    "        if not is_empty_play_time(x):\n",
    "            array_2d[id_index][game_index] = float(x)\n",
    "        else:\n",
    "            array_2d[id_index][game_index] = 0\n",
    "end_time = time.time()\n",
    "\n",
    "diff = end_time - start_time\n",
    "beta.append(diff)\n",
    "print(diff)\n",
    "print(array_2d)\n",
    "'''\n",
    "\n",
    "\n",
    "\n"
   ]
  },
  {
   "cell_type": "code",
   "execution_count": 236,
   "metadata": {},
   "outputs": [
    {
     "name": "stdout",
     "output_type": "stream",
     "text": [
      "292.59576177597046\n"
     ]
    }
   ],
   "source": [
    "\n",
    "\n",
    "def process_play_times(without_purchase, all_IDS, all_games):\n",
    "    # Create ID and Game lookup dictionaries for faster indexing\n",
    "    id_to_index = {id_: idx for idx, id_ in enumerate(all_IDS)}\n",
    "    game_to_index = {game: idx for idx, game in enumerate(all_games)}\n",
    "    \n",
    "    # Initialize array with zeros\n",
    "    array_2d = np.zeros((len(all_IDS), len(all_games)))\n",
    "    \n",
    "    # Get the ID column name\n",
    "    id_col = without_purchase.columns[0]  # Assuming ID is first column\n",
    "    \n",
    "    # Instead of pivot, use groupby and unstack to handle duplicates\n",
    "    # We'll take the sum of play times for duplicate entries\n",
    "    pivot_df = (without_purchase\n",
    "                .groupby([id_col, 'Game'])['Play Time']\n",
    "                .sum()\n",
    "                .unstack(fill_value=0))\n",
    "    \n",
    "    # Transfer values to array_2d using the lookup dictionaries\n",
    "    for id_ in pivot_df.index:\n",
    "        if id_ in id_to_index:\n",
    "            i = id_to_index[id_]\n",
    "            for game in pivot_df.columns:\n",
    "                if game in game_to_index:\n",
    "                    j = game_to_index[game]\n",
    "                    array_2d[i, j] = pivot_df.loc[id_, game]\n",
    "    \n",
    "    return array_2d\n",
    "\n",
    "\n",
    "\n",
    "\n",
    "\n",
    "start_time = time.time()\n",
    "array_2d2 = process_play_times(without_purchase, all_IDS, all_games)\n",
    "end_time = time.time()\n",
    "diff = end_time - start_time\n",
    "\n",
    "print(diff)\n"
   ]
  },
  {
   "cell_type": "code",
   "execution_count": 237,
   "metadata": {},
   "outputs": [
    {
     "name": "stdout",
     "output_type": "stream",
     "text": [
      "[[273.   87.   14.9 ...   0.    0.    0. ]\n",
      " [  0.    0.    0.  ...   0.    0.    0. ]\n",
      " [ 58.    0.    0.  ...   0.    0.    0. ]\n",
      " ...\n",
      " [  0.    0.    0.  ...   0.    0.    0. ]\n",
      " [  0.    0.    0.  ...   0.    0.    0. ]\n",
      " [  0.    0.    0.  ...   0.    0.    0. ]]\n",
      "(12393, 5155)\n"
     ]
    }
   ],
   "source": [
    "print(array_2d2)\n",
    "print(array_2d2.shape)"
   ]
  },
  {
   "cell_type": "code",
   "execution_count": 239,
   "metadata": {},
   "outputs": [],
   "source": [
    "np.savetxt('output_array.csv', array_2d2, delimiter=',', fmt='%d')"
   ]
  }
 ],
 "metadata": {
  "kernelspec": {
   "display_name": "Python 3",
   "language": "python",
   "name": "python3"
  },
  "language_info": {
   "codemirror_mode": {
    "name": "ipython",
    "version": 3
   },
   "file_extension": ".py",
   "mimetype": "text/x-python",
   "name": "python",
   "nbconvert_exporter": "python",
   "pygments_lexer": "ipython3",
   "version": "3.12.2"
  }
 },
 "nbformat": 4,
 "nbformat_minor": 2
}
