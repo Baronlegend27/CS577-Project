{
 "cells": [
  {
   "cell_type": "markdown",
   "metadata": {},
   "source": [
    "This is a basic description of how a recommender system should work"
   ]
  },
  {
   "cell_type": "code",
   "execution_count": 28,
   "metadata": {},
   "outputs": [
    {
     "name": "stdout",
     "output_type": "stream",
     "text": [
      "       Item1  Item2  Item3  Item4\n",
      "User1    5.0    4.0    NaN    2.0\n",
      "User2    3.0    NaN    3.0    5.0\n",
      "User3    NaN    NaN    4.0    NaN\n",
      "User4    1.0    1.0    1.0    1.0\n"
     ]
    }
   ],
   "source": [
    "import numpy as np\n",
    "import pandas as pd\n",
    "data = {\n",
    "    'Item1': [5, 3, np.nan, 1],\n",
    "    'Item2': [4, np.nan, np.nan, 1],\n",
    "    'Item3': [np.nan, 3, 4, 1],\n",
    "    'Item4': [2, 5, np.nan, 1]\n",
    "}\n",
    "user_item_matrix = pd.DataFrame(data, index=['User1', 'User2', 'User3', 'User4'])\n",
    "print(user_item_matrix)"
   ]
  },
  {
   "cell_type": "markdown",
   "metadata": {},
   "source": [
    "This is the prediction function that predicts the non rates items with the mean of rated items"
   ]
  },
  {
   "cell_type": "code",
   "execution_count": 29,
   "metadata": {},
   "outputs": [],
   "source": [
    "def predict_rating(user_index, item_index, user_item_matrix):\n",
    "    user_ratings = user_item_matrix.iloc[user_index]\n",
    "    rated_items = user_ratings[~user_ratings.isna()]\n",
    "    if len(rated_items) > 0:\n",
    "        return rated_items.mean()\n",
    "    return np.nan\n"
   ]
  },
  {
   "cell_type": "markdown",
   "metadata": {},
   "source": [
    "The main loop performs leave-one-out cross-validation by iterating over each user and their items. It checks for existing ratings, storing them for comparison, and temporarily sets one rating to NaN to simulate leaving it out. This tests the model's ability to predict unseen ratings."
   ]
  },
  {
   "cell_type": "code",
   "execution_count": 30,
   "metadata": {},
   "outputs": [],
   "source": [
    "actual_ratings = []\n",
    "predicted_ratings = []\n",
    "\n",
    "for user_index in range(user_item_matrix.shape[0]):\n",
    "    for item_index in range(user_item_matrix.shape[1]):\n",
    "        if pd.isna(user_item_matrix.iat[user_index, item_index]):\n",
    "            continue  # Skip if there's no rating\n",
    "\n",
    "        # Save the actual rating\n",
    "        actual_rating = user_item_matrix.iat[user_index, item_index]\n",
    "        actual_ratings.append(actual_rating)\n",
    "\n",
    "        # Temporarily set the rating to NaN\n",
    "        original_rating = user_item_matrix.iat[user_index, item_index]\n",
    "        user_item_matrix.iat[user_index, item_index] = np.nan\n",
    "\n",
    "        # Predict the left-out rating\n",
    "        predicted_rating = predict_rating(user_index, item_index, user_item_matrix)\n",
    "        predicted_ratings.append(predicted_rating)\n",
    "\n",
    "        # Restore the original rating\n",
    "        user_item_matrix.iat[user_index, item_index] = original_rating"
   ]
  },
  {
   "cell_type": "code",
   "execution_count": 31,
   "metadata": {},
   "outputs": [
    {
     "name": "stdout",
     "output_type": "stream",
     "text": [
      "1.65\n"
     ]
    }
   ],
   "source": [
    "def calculate_mse(actual, predicted):\n",
    "    # Convert lists to numpy arrays for easier manipulation\n",
    "    actual = np.array(actual)\n",
    "    predicted = np.array(predicted)\n",
    "    \n",
    "    # Mask to filter out NaN values\n",
    "    mask = ~np.isnan(actual) & ~np.isnan(predicted)\n",
    "    \n",
    "    # Calculate Mean Squared Error\n",
    "    if np.any(mask):\n",
    "        mse = np.mean((actual[mask] - predicted[mask]) ** 2)\n",
    "        return mse\n",
    "    else:\n",
    "        return np.nan\n",
    "\n",
    "mse = calculate_mse(actual_ratings, predicted_ratings)\n",
    "print(mse)"
   ]
  },
  {
   "cell_type": "code",
   "execution_count": 32,
   "metadata": {},
   "outputs": [
    {
     "name": "stdout",
     "output_type": "stream",
     "text": [
      "       Item1  Item2  Item3  Item4\n",
      "User1    5.0    4.0    NaN    2.0\n",
      "User2    3.0    NaN    3.0    5.0\n",
      "User3    NaN    NaN    4.0    NaN\n",
      "User4    1.0    1.0    1.0    1.0\n"
     ]
    }
   ],
   "source": [
    "print(user_item_matrix)"
   ]
  },
  {
   "cell_type": "code",
   "execution_count": 33,
   "metadata": {},
   "outputs": [
    {
     "name": "stdout",
     "output_type": "stream",
     "text": [
      "[3.0, 3.5, 4.5, 4.0, 4.0, 3.0, nan, 1.0, 1.0, 1.0, 1.0]\n",
      "[5.0, 4.0, 2.0, 3.0, 3.0, 5.0, 4.0, 1.0, 1.0, 1.0, 1.0]\n"
     ]
    }
   ],
   "source": [
    "\n",
    "print(predicted_ratings)\n",
    "print(actual_ratings)"
   ]
  }
 ],
 "metadata": {
  "kernelspec": {
   "display_name": "base",
   "language": "python",
   "name": "python3"
  },
  "language_info": {
   "codemirror_mode": {
    "name": "ipython",
    "version": 3
   },
   "file_extension": ".py",
   "mimetype": "text/x-python",
   "name": "python",
   "nbconvert_exporter": "python",
   "pygments_lexer": "ipython3",
   "version": "3.9.18"
  }
 },
 "nbformat": 4,
 "nbformat_minor": 2
}
